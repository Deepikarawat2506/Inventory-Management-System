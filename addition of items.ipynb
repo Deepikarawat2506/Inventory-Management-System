{
  "nbformat": 4,
  "nbformat_minor": 0,
  "metadata": {
    "colab": {
      "name": "Untitled0.ipynb",
      "provenance": []
    },
    "kernelspec": {
      "name": "python3",
      "display_name": "Python 3"
    },
    "language_info": {
      "name": "python"
    }
  },
  "cells": [
    {
      "cell_type": "code",
      "metadata": {
        "id": "G6RlNQG5VyUc"
      },
      "source": [
        "import json\n",
        "fd = open(\"record.json\",'r')\n",
        "r = fd.read()\n",
        "fd.close()\n",
        "\n",
        "record = json.loads(r)\n"
      ],
      "execution_count": null,
      "outputs": []
    },
    {
      "cell_type": "code",
      "metadata": {
        "id": "QlsjCPTkDKp0"
      },
      "source": [
        "record"
      ],
      "execution_count": null,
      "outputs": []
    },
    {
      "cell_type": "code",
      "metadata": {
        "colab": {
          "base_uri": "https://localhost:8080/"
        },
        "id": "EoDwo-_-zocj",
        "outputId": "d4a7604c-e152-4cd0-fc2c-1d33a45a553b"
      },
      "source": [
        "id = int(input(\"Enter product id:\"))\n",
        "if(id < 1009):\n",
        "  print(\"enter correct id\")\n",
        "  id = int(input(\"Enter product id:\"))\n",
        "\n",
        "name = str(input(\"Enter name:\"))\n",
        "\n",
        "pr = int(input(\"Enter price:\"))\n",
        "if(pr<0):\n",
        "  print(\"Enter correct cost\")\n",
        "  pr = int(input(\"Enter price:\"))\n",
        "\n",
        "\n",
        "qn = int(input(\"Enter quantity:\"))\n",
        "if(qn<1):\n",
        "  print(\"Quantity should be greater than 1\")\n",
        "  qn= int(input(\"Enter quantity:\"))\n",
        "\n",
        "record[id] = {'name': name, 'pr': pr, 'qn': qn }\n",
        "\n",
        "js = json.dumps(record)\n",
        "\n",
        "fd = open(\"record.json\",'w')\n",
        "fd.write(js)\n",
        "fd.close()"
      ],
      "execution_count": null,
      "outputs": [
        {
          "name": "stdout",
          "output_type": "stream",
          "text": [
            "Enter product id:1040\n",
            "Enter name:hand bags\n",
            "Enter price:500\n",
            "Enter quantity:32\n"
          ]
        }
      ]
    },
    {
      "cell_type": "code",
      "metadata": {
        "id": "vKs7aGFu19To",
        "colab": {
          "base_uri": "https://localhost:8080/",
          "height": 162
        },
        "outputId": "8a779a1c-e9d5-4d32-e005-e3f3fc6c553e"
      },
      "source": [
        ""
      ],
      "execution_count": null,
      "outputs": [
        {
          "output_type": "error",
          "ename": "NameError",
          "evalue": "ignored",
          "traceback": [
            "\u001b[0;31m---------------------------------------------------------------------------\u001b[0m",
            "\u001b[0;31mNameError\u001b[0m                                 Traceback (most recent call last)",
            "\u001b[0;32m<ipython-input-1-b3663dc189e2>\u001b[0m in \u001b[0;36m<module>\u001b[0;34m()\u001b[0m\n\u001b[0;32m----> 1\u001b[0;31m \u001b[0mrecord\u001b[0m\u001b[0;34m\u001b[0m\u001b[0;34m\u001b[0m\u001b[0m\n\u001b[0m",
            "\u001b[0;31mNameError\u001b[0m: name 'record' is not defined"
          ]
        }
      ]
    }
  ]
}