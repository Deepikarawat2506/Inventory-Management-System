{
  "nbformat": 4,
  "nbformat_minor": 0,
  "metadata": {
    "colab": {
      "name": "Untitled5.ipynb",
      "provenance": [],
      "toc_visible": true
    },
    "kernelspec": {
      "name": "python3",
      "display_name": "Python 3"
    },
    "language_info": {
      "name": "python"
    }
  },
  "cells": [
    {
      "cell_type": "code",
      "metadata": {
        "id": "wYxvwSZI_HmZ"
      },
      "source": [
        "import json\n",
        "\n",
        "fd = open(\"record.json\",'r')\n",
        "r = fd.read()\n",
        "fd.close()\n",
        "\n",
        "records = json.loads(r)"
      ],
      "execution_count": null,
      "outputs": []
    },
    {
      "cell_type": "code",
      "metadata": {
        "colab": {
          "base_uri": "https://localhost:8080/"
        },
        "id": "nLy6Q-KT_RKQ",
        "outputId": "27bd922c-348d-4695-eae5-b8a9f8c37a7c"
      },
      "source": [
        "records"
      ],
      "execution_count": null,
      "outputs": [
        {
          "output_type": "execute_result",
          "data": {
            "text/plain": [
              "{'1001': {'name': 'Choco Cake', 'pr': 100, 'qn': 34},\n",
              " '1002': {'name': 'Milk Cake', 'pr': 800, 'qn': 100},\n",
              " '1003': {'name': 'Drink', 'pr': 85, 'qn': 100},\n",
              " '1004': {'name': 'Candy', 'pr': 5, 'qn': 1000},\n",
              " '1005': {'name': 'Pen', 'pr': 20, 'qn': 100},\n",
              " '1006': {'name': 'Phone', 'pr': 50000, 'qn': 10},\n",
              " '1007': {'name': 'Mic', 'pr': 1500, 'qn': 0},\n",
              " '1008': {'name': 'Case', 'pr': 599, 'qn': 5},\n",
              " '1009': {'name': 'Keyboard', 'pr': 1999, 'qn': 10},\n",
              " '1010': {'name': 'water botel', 'pr': 30, 'qn': 90},\n",
              " '1011': {'name': 'chair', 'pr': 300, 'qn': 30},\n",
              " '1012': {'name': 'notebook', 'pr': 50, 'qn': 100},\n",
              " '1013': {'name': 'pendrive', 'pr': 250, 'qn': 20},\n",
              " '1014': {'name': 'perfume', 'pr': 345, 'qn': 45},\n",
              " '1015': {'name': 'charger', 'pr': 100, 'qn': 56},\n",
              " '1016': {'name': 'face wash', 'pr': 463, 'qn': 34},\n",
              " '1017': {'name': 'laptop', 'pr': 50000, 'qn': 10},\n",
              " '1018': {'name': 'jam', 'pr': 50, 'qn': 25},\n",
              " '1019': {'name': 'lays', 'pr': 10, 'qn': 50},\n",
              " '1020': {'name': 'potato chips', 'pr': 20, 'qn': 20},\n",
              " '1021': {'name': 'diary milk', 'pr': 20, 'qn': 43},\n",
              " '1022': {'name': 'diary milk', 'pr': 50, 'qn': 10},\n",
              " '1023': {'name': 'detergent', 'pr': 200, 'qn': 23},\n",
              " '1024': {'name': 'soap', 'pr': 34, 'qn': 45},\n",
              " '1025': {'name': 'liquid hand wash', 'pr': 150, 'qn': 22},\n",
              " '1026': {'name': 'crockery set', 'pr': 555, 'qn': 5},\n",
              " '1027': {'name': 'nail paint', 'pr': 120, 'qn': 21},\n",
              " '1028': {'name': 'garam masala', 'pr': 36, 'qn': 15},\n",
              " '1029': {'name': 'towel', 'pr': 336, 'qn': 27},\n",
              " '1030': {'name': 'hand towel', 'pr': 50, 'qn': 33},\n",
              " '1031': {'name': 'mask', 'pr': 50, 'qn': 100},\n",
              " '1032': {'name': 'headphones', 'pr': 1000, 'qn': 15},\n",
              " '1033': {'name': 'zoomin headphones', 'pr': 993, 'qn': 10},\n",
              " '1034': {'name': 'rice bag', 'pr': 700, 'qn': 10},\n",
              " '1035': {'name': 'daal', 'pr': 250, 'qn': 46},\n",
              " '1036': {'name': 'kurkure', 'pr': 20, 'qn': 20},\n",
              " '1037': {'name': 'study table', 'pr': 5999, 'qn': 5},\n",
              " '1038': {'name': 'geometry box', 'pr': 79, 'qn': 28},\n",
              " '1039': {'name': 'bag', 'pr': 1499, 'qn': 11},\n",
              " '1040': {'name': 'hand bags', 'pr': 500, 'qn': 32}}"
            ]
          },
          "metadata": {},
          "execution_count": 2
        }
      ]
    },
    {
      "cell_type": "code",
      "metadata": {
        "id": "oDYz-Clj_44r"
      },
      "source": [
        "sales ={}"
      ],
      "execution_count": null,
      "outputs": []
    },
    {
      "cell_type": "code",
      "metadata": {
        "colab": {
          "base_uri": "https://localhost:8080/"
        },
        "id": "wvDUMjKF_TOr",
        "outputId": "6e31b7f2-8168-4f2c-c511-6b461fee5a97"
      },
      "source": [
        "n = 1\n",
        "while(n==1):\n",
        "\n",
        "  ui_prod  = input(\"Enter the product_Id: \")\n",
        "\n",
        "  print(\"Product: \", records[ui_prod]['name'])\n",
        "  print(\"total quantity : \", records[ui_prod]['qn'])\n",
        "  ui_quant = int(input(\"Enter the quantity: \"))\n",
        "\n",
        "  if(ui_quant>records[ui_prod]['qn']):\n",
        "    print(\"this much quantity is not available\")\n",
        "    ui_quant = int(input(\"Enter the quantity: \"))\n",
        "    \n",
        "  print(\"Price: \", records[ui_prod]['pr'])\n",
        "  print(\"Billing Amount: \", records[ui_prod]['pr'] * ui_quant)\n",
        "  records[ui_prod]['qn'] = records[ui_prod]['qn'] - ui_quant\n",
        "  \n",
        "  {(len(sales)+1) :{'prod' : ui_prod,'name':records[ui_prod]['name'] , 'qn' : ui_quant, 'amount': records[ui_prod]['pr'] * ui_quant}}\n",
        "  sales[len(sales)+1]={'prod' : ui_prod,'name':records[ui_prod]['name'] , 'qn' : ui_quant, 'amount': records[ui_prod]['pr'] * ui_quant}\n",
        "\n",
        "  print(\"if you want to continue shopping enter 1 for yes and 0 for no\")\n",
        "  n =int(input())"
      ],
      "execution_count": null,
      "outputs": [
        {
          "name": "stdout",
          "output_type": "stream",
          "text": [
            "Enter the product_Id: 1035\n",
            "Product:  daal\n",
            "total quantity :  46\n",
            "Enter the quantity: 5\n",
            "Price:  250\n",
            "Billing Amount:  1250\n",
            "if you want to continue shopping enter 1 for yes and 0 for no\n",
            "1\n",
            "Enter the product_Id: 1029\n",
            "Product:  towel\n",
            "total quantity :  27\n",
            "Enter the quantity: 4\n",
            "Price:  336\n",
            "Billing Amount:  1344\n",
            "if you want to continue shopping enter 1 for yes and 0 for no\n",
            "0\n"
          ]
        }
      ]
    },
    {
      "cell_type": "code",
      "metadata": {
        "id": "PRjs39Dw_aHW"
      },
      "source": [
        "js = json.dumps(records)\n",
        "\n",
        "fd = open(\"record.json\",'w')\n",
        "fd.write(js)\n",
        "fd.close()"
      ],
      "execution_count": null,
      "outputs": []
    },
    {
      "cell_type": "code",
      "metadata": {
        "colab": {
          "base_uri": "https://localhost:8080/"
        },
        "id": "sO68_54I_fw8",
        "outputId": "34fc0f59-8d98-4656-a30d-74d7c9cb0656"
      },
      "source": [
        "records"
      ],
      "execution_count": null,
      "outputs": [
        {
          "output_type": "execute_result",
          "data": {
            "text/plain": [
              "{'1001': {'name': 'Choco Cake', 'pr': 100, 'qn': 34},\n",
              " '1002': {'name': 'Milk Cake', 'pr': 800, 'qn': 90},\n",
              " '1003': {'name': 'Drink', 'pr': 85, 'qn': 100},\n",
              " '1004': {'name': 'Candy', 'pr': 5, 'qn': 1000},\n",
              " '1005': {'name': 'Pen', 'pr': 20, 'qn': 100},\n",
              " '1006': {'name': 'Phone', 'pr': 50000, 'qn': 10},\n",
              " '1007': {'name': 'Mic', 'pr': 1500, 'qn': 0},\n",
              " '1008': {'name': 'Case', 'pr': 599, 'qn': 5},\n",
              " '1009': {'name': 'Keyboard', 'pr': 1999, 'qn': 10},\n",
              " '1010': {'name': 'water botel', 'pr': 30, 'qn': 70},\n",
              " '1011': {'name': 'chair', 'pr': 300, 'qn': 29},\n",
              " '1012': {'name': 'notebook', 'pr': 50, 'qn': 80},\n",
              " '1013': {'name': 'pendrive', 'pr': 250, 'qn': 20},\n",
              " '1014': {'name': 'perfume', 'pr': 345, 'qn': 45},\n",
              " '1015': {'name': 'charger', 'pr': 100, 'qn': 56},\n",
              " '1016': {'name': 'face wash', 'pr': 463, 'qn': 34},\n",
              " '1017': {'name': 'laptop', 'pr': 50000, 'qn': 10},\n",
              " '1018': {'name': 'jam', 'pr': 50, 'qn': 25},\n",
              " '1019': {'name': 'lays', 'pr': 10, 'qn': 50},\n",
              " '1020': {'name': 'potato chips', 'pr': 20, 'qn': 20},\n",
              " '1021': {'name': 'diary milk', 'pr': 20, 'qn': 43},\n",
              " '1022': {'name': 'diary milk', 'pr': 50, 'qn': 10},\n",
              " '1023': {'name': 'detergent', 'pr': 200, 'qn': 13},\n",
              " '1024': {'name': 'soap', 'pr': 34, 'qn': 45},\n",
              " '1025': {'name': 'liquid hand wash', 'pr': 150, 'qn': 22},\n",
              " '1026': {'name': 'crockery set', 'pr': 555, 'qn': 5},\n",
              " '1027': {'name': 'nail paint', 'pr': 120, 'qn': 19},\n",
              " '1028': {'name': 'garam masala', 'pr': 36, 'qn': 15},\n",
              " '1029': {'name': 'towel', 'pr': 336, 'qn': 23},\n",
              " '1030': {'name': 'hand towel', 'pr': 50, 'qn': 33},\n",
              " '1031': {'name': 'mask', 'pr': 50, 'qn': 100},\n",
              " '1032': {'name': 'headphones', 'pr': 1000, 'qn': 15},\n",
              " '1033': {'name': 'zoomin headphones', 'pr': 993, 'qn': 10},\n",
              " '1034': {'name': 'rice bag', 'pr': 700, 'qn': 10},\n",
              " '1035': {'name': 'daal', 'pr': 250, 'qn': 41},\n",
              " '1036': {'name': 'kurkure', 'pr': 20, 'qn': 20},\n",
              " '1037': {'name': 'study table', 'pr': 5999, 'qn': 5},\n",
              " '1038': {'name': 'geometry box', 'pr': 79, 'qn': 28},\n",
              " '1039': {'name': 'bag', 'pr': 1499, 'qn': 10},\n",
              " '1040': {'name': 'hand bags', 'pr': 500, 'qn': 21}}"
            ]
          },
          "metadata": {},
          "execution_count": 20
        }
      ]
    },
    {
      "cell_type": "code",
      "metadata": {
        "colab": {
          "base_uri": "https://localhost:8080/"
        },
        "id": "ujx77OTICKcF",
        "outputId": "2cea5415-56db-4a00-8181-d456d912c140"
      },
      "source": [
        "Your_name = input(\"enter your name :\")\n",
        "phone_no = input(\"enter your number :\")\n",
        "address = input(\"enter your address :\")\n",
        "sales[len(sales)+1] ={'Your_name':Your_name , 'phone_no': phone_no ,'address':address}"
      ],
      "execution_count": null,
      "outputs": [
        {
          "name": "stdout",
          "output_type": "stream",
          "text": [
            "enter your name :neeta singh\n",
            "enter your number :9876543221\n",
            "enter your address :road no. 4 near birla complex delhi\n"
          ]
        }
      ]
    },
    {
      "cell_type": "code",
      "metadata": {
        "colab": {
          "base_uri": "https://localhost:8080/"
        },
        "id": "437zZj4n_khQ",
        "outputId": "736c7bdd-476f-47de-84c4-73f435955540"
      },
      "source": [
        "sales"
      ],
      "execution_count": null,
      "outputs": [
        {
          "output_type": "execute_result",
          "data": {
            "text/plain": [
              "{1: {'amount': 300, 'name': 'water botel', 'prod': '1010', 'qn': 10},\n",
              " 2: {'amount': 300, 'name': 'chair', 'prod': '1011', 'qn': 1},\n",
              " 3: {'amount': 8000, 'name': 'Milk Cake', 'prod': '1002', 'qn': 10},\n",
              " 4: {'amount': 5000, 'name': 'hand bags', 'prod': '1040', 'qn': 10},\n",
              " 5: {'amount': 2000, 'name': 'detergent', 'prod': '1023', 'qn': 10},\n",
              " 6: {'amount': 1000, 'name': 'notebook', 'prod': '1012', 'qn': 20},\n",
              " 7: {'amount': 500, 'name': 'hand bags', 'prod': '1040', 'qn': 1},\n",
              " 8: {'amount': 1499, 'name': 'bag', 'prod': '1039', 'qn': 1},\n",
              " 9: {'amount': 240, 'name': 'nail paint', 'prod': '1027', 'qn': 2},\n",
              " 10: {'amount': 1250, 'name': 'daal', 'prod': '1035', 'qn': 5},\n",
              " 11: {'amount': 1344, 'name': 'towel', 'prod': '1029', 'qn': 4},\n",
              " 12: {'Your_name': 'neeta singh',\n",
              "  'address': 'road no. 4 near birla complex delhi',\n",
              "  'phone_no': '9876543221'}}"
            ]
          },
          "metadata": {},
          "execution_count": 22
        }
      ]
    },
    {
      "cell_type": "code",
      "metadata": {
        "id": "fatnisl9_n-A"
      },
      "source": [
        "sale = json.dumps(sales)"
      ],
      "execution_count": null,
      "outputs": []
    }
  ]
}